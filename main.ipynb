{
 "cells": [
  {
   "cell_type": "markdown",
   "metadata": {},
   "source": [
    "# Homework 4 - Does basic house information reflect house's description?\n",
    "## Group 11 -  Riccardo Cervelli, Kentaro Kato, Pavan kumar Alikana."
   ]
  },
  {
   "cell_type": "markdown",
   "metadata": {},
   "source": [
    "![AirBnb](https://static.designboom.com/wp-content/uploads/2014/12/peter-pichler-architecture-mirror-houses-designboom-09.jpg)"
   ]
  },
  {
   "cell_type": "markdown",
   "metadata": {},
   "source": [
    "The goal of this section of  HW4 was perform a clustering analysis of house announcements in Rome from Immobiliare.it. We had to implement two clustering and compare the results we got. We created two datasets and each of them is filled by data that we scraped by https://www.immobiliare.it, but you can check also from  [here](https://www.immobiliare.it)."
   ]
  },
  {
   "cell_type": "markdown",
   "metadata": {},
   "source": [
    "### Load required python packages"
   ]
  },
  {
   "cell_type": "code",
   "execution_count": 2,
   "metadata": {},
   "outputs": [],
   "source": [
    "#%%writefile code/load_packages.py\n",
    "import time\n",
    "\n",
    "# For webscrapping\n",
    "import requests\n",
    "from bs4 import BeautifulSoup\n",
    "\n",
    "from os.path import join as pjoin\n",
    "import os\n",
    "from pathlib import Path\n",
    "\n",
    "import pandas as pd\n",
    "import numpy as np\n",
    "import html\n",
    "from lxml import html\n",
    "\n",
    "# For persisting indexes in an external file\n",
    "import pickle\n",
    "import math\n",
    "import nltk\n",
    "\n",
    "# For word tokenization\n",
    "from nltk.tokenize import RegexpTokenizer\n",
    "\n",
    "# For stop words list\n",
    "from nltk.corpus import stopwords\n",
    "\n",
    "# For word stemming\n",
    "from nltk.stem.snowball import SnowballStemmer\n",
    "from sklearn.cluster import KMeans\n",
    "from wordcloud import WordCloud\n",
    "import matplotlib.pyplot as plt"
   ]
  },
  {
   "cell_type": "markdown",
   "metadata": {},
   "source": [
    "### Load utility functions to be used through out the code"
   ]
  },
  {
   "cell_type": "markdown",
   "metadata": {},
   "source": [
    "We choose to define all our functions at the beginning of this Section, because is more convenient and more simple to read for you!\n",
    "Here you can chek our functions."
   ]
  },
  {
   "cell_type": "code",
   "execution_count": 3,
   "metadata": {},
   "outputs": [],
   "source": [
    "#%%writefile code/utilities.py\n",
    "\n",
    "# Common utility functions\n",
    "\n",
    "def extract_number(n):\n",
    "    n = n.replace('.', '')\n",
    "    n = n.replace('+', '')\n",
    "    n_list = [str(s) for s in n.split() if s.isdigit()]\n",
    "\n",
    "    s = ''.join(n_list).strip()\n",
    "    \n",
    "    if not s:\n",
    "        s = 0\n",
    "\n",
    "    return int(s)\n",
    "\n",
    "# Utility functions for reading and writing files using pickel python package\n",
    "def read_file_from_pickle(file):\n",
    "    file_content = {}\n",
    "    \n",
    "    if file.is_file():\n",
    "        with open(file, \"rb\") as f:\n",
    "            file_content = pickle.load(f)\n",
    "            f.close()\n",
    "    \n",
    "    return file_content\n",
    "\n",
    "def write_file_to_pickle(file, content):\n",
    "    with open(file, \"wb\") as f:\n",
    "        pickle.dump(content, f)\n",
    "        f.close()\n",
    "\n",
    "# Apply Jaccard similarity to find out 3 most similar clusters\n",
    "def get_jaccard(a, b):\n",
    "    c = a.intersection(b)\n",
    "    return float(len(c)) / (len(a) + len(b) - len(c))\n",
    "\n",
    "\n",
    "# Utility functions for clustering and wordcloud\n",
    "\n",
    "def get_listing_content(i, sflag):\n",
    "    listing_words = ''\n",
    "    if sflag:\n",
    "        listing_words = listing_content_persist[i]\n",
    "    else:\n",
    "        listing_id = listing_index_persist['listing_ids'][i]\n",
    "        listing_data = listings_persist[listing_id]\n",
    "        listing_words = listing_data['description']\n",
    "\n",
    "    return listing_words + ' '\n",
    "\n",
    "def get_wc_save_path(i, sflag):\n",
    "\n",
    "    folder_prefix = 'wordcloud/'\n",
    "    f_name_prefix = ''\n",
    "\n",
    "    if(sflag):\n",
    "        f_name_prefix = \"cluster\"\n",
    "    else:\n",
    "        f_name_prefix = \"cluster_all\"\n",
    "\n",
    "    return folder_prefix + f_name_prefix + str(i)\n",
    "\n",
    "\n",
    "def compare_clusters(c1, c2):\n",
    "\n",
    "    jac_score_list = []\n",
    "    comb_list = []\n",
    "    cmp_output = {}\n",
    "\n",
    "    for i in range(len(c1)):\n",
    "        for j in range(len(c2)):\n",
    "            # Adding the score of each cluster combination to jac_score_list\n",
    "            jac_score_list.append(get_jaccard(set(c1[i]), set(c2[j])))\n",
    "            comb_list.append([i,j])\n",
    "\n",
    "    cmp_output['score_list'] = jac_score_list\n",
    "    cmp_output['comb_list'] = comb_list\n",
    "    \n",
    "    return cmp_output\n",
    "\n",
    "\n",
    "def get_similar_clusters(top_3_list, c1, c2):\n",
    "    similar_clusters = []\n",
    "\n",
    "    for t in top_3_list:\n",
    "        t_list = list(t)\n",
    "        c_list_1 = c1[t_list[1][0]]\n",
    "        c_list_2 = c2[t_list[1][1]]\n",
    "\n",
    "        s_list = list(set(c_list_1 + c_list_2))\n",
    "\n",
    "        similar_clusters.append(s_list)\n",
    "\n",
    "    return similar_clusters"
   ]
  },
  {
   "cell_type": "markdown",
   "metadata": {},
   "source": [
    "## Load the data persisted using pickel library:\n",
    "\n",
    "### We are using the following indexes - \n",
    "\n",
    "- listings.pkl - contains all the listings data as it was scrapped in the dictionary format of \"listing_id\": listing_obj\n",
    "\n",
    "- listing_links.pkl - contains all the individual listing page hyperlinks to be scrapped separately (one time action)\n",
    "\n",
    "- isting_index.pkl - contains all the listing ids(extracted from the listing pages while scrapping), to preserve the ordering of listings while building information and description datasets\n",
    "\n",
    "- listing_content.pkl - contains the data from all individual listings with all the stop words removed, we are using this to find tfidf values of all the words in the vocabulary.pkl file\n",
    "\n",
    "- vocabulary.pkl - contains metadata of the words in the following format (eg: \"123\": [334,4545,645]) where 123 is the word_id taken from words.pkl and 334,4545,645 are listing ids in which that word is present\n",
    "\n",
    "- words.pkl - contains all the words present accross all the listings in the following format (eg: \"house\": \"123\")\n",
    "\n",
    "- iindex_tf_idf.pkl - contains the dictionary of tfidf values of all the words in words.pkl\n",
    "\n",
    "- information_dataset.pkl - Holds the information data set in the format mentioned in the homework text\n",
    "\n",
    "- description_dataset.pkl -  Holds the description data set in the format mentioned in the homework text\n",
    "\n",
    "\n",
    "\n"
   ]
  },
  {
   "cell_type": "code",
   "execution_count": 4,
   "metadata": {},
   "outputs": [],
   "source": [
    "#%%writefile code/load_data.py\n",
    "\n",
    "# Import all the persisted data at once\n",
    "# Data to import: \n",
    "# Listing data, Individual listing links, Listing Index \n",
    "# Words, Vocabulary, listing_content, iindex_tf_idf\n",
    "# information_dataset, description_dataset\n",
    "\n",
    "# Path to the current working directory to refer to all the files relatively\n",
    "my_path = os.path.dirname(os.path.realpath('__file__'))\n",
    "\n",
    "# Datastructures for holding the listings and other metadata\n",
    "# Please create a directory(in your current working directory) with name 'indexes'  \n",
    "\n",
    "#Holds individual listings data for the listing pages downloaded\n",
    "listings_file = Path(os.path.join(my_path, \"indexes/listings.pkl\"))\n",
    "listings_persist = {}\n",
    "\n",
    "if listings_file.is_file():\n",
    "    with open(listings_file, \"rb\") as listings:\n",
    "        listings_persist = pickle.load(listings)\n",
    "        listings.close()\n",
    "\n",
    "#Holds the URLs of individual listings for extracting complete description of a particular listing\n",
    "listing_links_file = Path(os.path.join(my_path, \"indexes/listing_links.pkl\"))\n",
    "listing_links_persist = read_file_from_pickle(listing_links_file)\n",
    "\n",
    "\n",
    "#Holds the order of individual listing\n",
    "listing_index_file = Path(os.path.join(my_path, \"indexes/listing_index.pkl\"))\n",
    "listing_index_persist = read_file_from_pickle(listing_index_file)\n",
    "     \n",
    "\n",
    "# Retrieving persisted information for listing content and word map (words and vocabulary)\n",
    "content_file = Path(os.path.join(my_path, \"indexes/listing_content.pkl\"))\n",
    "listing_content_persist = read_file_from_pickle(content_file)\n",
    "\n",
    "\n",
    "\n",
    "vocabulary_file = Path(os.path.join(my_path, \"indexes/vocabulary.pkl\"))\n",
    "vocabulary_persist = read_file_from_pickle(vocabulary_file)\n",
    "\n",
    "words_file = Path(os.path.join(my_path, \"indexes/words.pkl\"))\n",
    "words_persist = read_file_from_pickle(words_file)\n",
    "        \n",
    "index_file = Path(os.path.join(my_path, \"indexes/iindex_tf_idf.pkl\"))\n",
    "iindex_tf_idf_persist = read_file_from_pickle(index_file)\n",
    "\n",
    "\n",
    "# Information data set\n",
    "information_ds_file = Path(os.path.join(my_path, \"indexes/information_dataset.pkl\"))\n",
    "information_ds_persist = read_file_from_pickle(information_ds_file)\n",
    "\n",
    "# Description data set - containing tf-idf values\n",
    "description_ds_file = Path(os.path.join(my_path, \"indexes/description_dataset.pkl\"))\n",
    "description_ds_persist = read_file_from_pickle(description_ds_file)"
   ]
  },
  {
   "cell_type": "markdown",
   "metadata": {},
   "source": [
    "### Jaccard Similarity\n",
    "\n",
    "In our previuos HW we used Cosine Similarity but now we used Jaccard. We show you how its works in a really simple way."
   ]
  },
  {
   "cell_type": "markdown",
   "metadata": {},
   "source": [
    "![jac](https://i0.wp.com/dataaspirant.com/wp-content/uploads/2015/04/jaccard_similariyt.png)"
   ]
  },
  {
   "cell_type": "markdown",
   "metadata": {},
   "source": [
    "![sim](https://i1.wp.com/dataaspirant.com/wp-content/uploads/2015/04/jaccaard2.png)"
   ]
  },
  {
   "cell_type": "markdown",
   "metadata": {},
   "source": [
    "# Scraping"
   ]
  },
  {
   "cell_type": "markdown",
   "metadata": {},
   "source": [
    "We downloaded the files into folder with name data. Every group listing page has information about 25 listings, we downloaded 1000 pages to have a bigger sample.. The website that scraped is [here](https://www.immobiliare.it). In particular, we retrieve more thaa 10k announcements starting from this link. We used the Beautiful Soup library to parse the html file . But we used also time.sleep(t), where t is the number of seconds, to prevent the website block. "
   ]
  },
  {
   "cell_type": "code",
   "execution_count": 5,
   "metadata": {},
   "outputs": [
    {
     "name": "stdout",
     "output_type": "stream",
     "text": [
      "Group listings pages already downloaded\n"
     ]
    }
   ],
   "source": [
    "#%%writefile code/group_listings_download.py\n",
    "\n",
    "# Checking if the indexes exist\n",
    "# Check the first file \n",
    "listing_page_file = Path(os.path.join(my_path, \"indexes/listings.pkl\"))\n",
    "\n",
    "if listing_page_file.is_file() == False:\n",
    "\n",
    "    # If there are no files then start downloading each html file with a delay of 3 seconds\n",
    "    print('Downloading group listings pages...')\n",
    "    \n",
    "    url_root = 'https://www.immobiliare.it/vendita-case/roma/?criterio=rilevanza&pag='\n",
    "\n",
    "\n",
    "    for i in range(1000):\n",
    "\n",
    "        cur_url = url_root + str(i)\n",
    "\n",
    "        cur_content = requests.get(cur_url)\n",
    "\n",
    "        res_text = BeautifulSoup(cur_content.text, \"lxml\")\n",
    "\n",
    "        cur_html_file= open(\"data/listing_\" + str(i) + \".html\", \"w\")\n",
    "        cur_html_file.write(str(res_text))\n",
    "        cur_html_file.close()\n",
    "        \n",
    "        # 3 seconds delay for the next page download attempt\n",
    "        time.sleep(3)\n",
    "else:\n",
    "    print('Group listings pages already downloaded')"
   ]
  },
  {
   "cell_type": "markdown",
   "metadata": {},
   "source": [
    " Download individual listing page to update the full description of the listing, we downloaded 10000 individual listing pages and updated corresponding index file listings.pkl\n",
    "\n",
    "Note: We downloaded the files in to folder with name listing_data"
   ]
  },
  {
   "cell_type": "code",
   "execution_count": 6,
   "metadata": {},
   "outputs": [
    {
     "name": "stdout",
     "output_type": "stream",
     "text": [
      "Individual listing pages already downloaded\n"
     ]
    }
   ],
   "source": [
    "#%%writefile code/listings_download.py\n",
    "\n",
    "\n",
    "# Downloading individual listings pages from the listing links persisted\n",
    "# Checking if the indexes exist\n",
    "# Check the first file \n",
    "listing_page_file = Path(os.path.join(my_path, \"indexes/listings.pkl\"))\n",
    "\n",
    "\n",
    "if listing_page_file.is_file() == False:\n",
    "    \n",
    "    print('Downloading individual listing pages...')\n",
    "\n",
    "    links_list = []\n",
    "\n",
    "    if(len(listing_links_persist.keys()) != 0):\n",
    "\n",
    "        # Getting listing page links\n",
    "        for key in  listing_links_persist:\n",
    "            cur_link = listing_links_persist[key]\n",
    "\n",
    "            # Check if the link is relative\n",
    "            # If yes make it absolute link\n",
    "            # Need to add better checks here\n",
    "            if(cur_link[0] == \"/\"):\n",
    "                cur_link = \"https://www.immobiliare.it\" + cur_link\n",
    "\n",
    "            links_list.append(cur_link)\n",
    "\n",
    "        # Downloading the pages\n",
    "        for i in range(690, len(links_list)):\n",
    "\n",
    "            cur_url = links_list[i]\n",
    "\n",
    "            cur_content = requests.get(cur_url)\n",
    "\n",
    "            res_text = BeautifulSoup(cur_content.text, \"lxml\")\n",
    "\n",
    "            cur_detail_file = os.path.join(my_path, \"data_detail/listing_detail_\" + str(i) + \".html\")\n",
    "\n",
    "            cur_html_file= open(cur_detail_file, \"w\")\n",
    "            cur_html_file.write(str(res_text))\n",
    "            cur_html_file.close()\n",
    "\n",
    "            # Wait for 3 seconds before downloading the next page\n",
    "            time.sleep(3)\n",
    "else:\n",
    "    print('Individual listing pages already downloaded')\n",
    "    "
   ]
  },
  {
   "cell_type": "markdown",
   "metadata": {},
   "source": [
    "Here we used for web scrapping  BeautifulSoup library  for group listing and individual listing pages:\n"
   ]
  },
  {
   "cell_type": "code",
   "execution_count": 7,
   "metadata": {},
   "outputs": [
    {
     "name": "stdout",
     "output_type": "stream",
     "text": [
      "Indexes are already created\n"
     ]
    }
   ],
   "source": [
    "#%%writefile code/scrape_listings.py\n",
    "\n",
    "# If this is True then the listing description is updated from \n",
    "# the individual pages\n",
    "desc_flag = False\n",
    "\n",
    "if(len(listing_index_persist.keys()) == 0):\n",
    "\n",
    "    print(\"Indexes are being created\")\n",
    "\n",
    "    l_index = 0\n",
    "    listing_index_persist['listing_ids'] = []\n",
    "\n",
    "    # Every page has 25 listings so\n",
    "    # 410*25 will be more than 10000 listings\n",
    "    for i in range(1, 410):\n",
    "\n",
    "        cur_listing_page = BeautifulSoup(open(os.path.join(my_path, 'data/listing_' + str(i) + '.html')), 'html.parser')\n",
    "\n",
    "        listing_container = cur_listing_page.find(class_=\"annunci-list\")\n",
    "        \n",
    "        # Need to improve exception handling in this loop\n",
    "        for cur_listing in listing_container.find_all(class_=[\"listing-item\", \"js-row-detail\"], recursive=False):\n",
    "\n",
    "            listing_dict = {\n",
    "                \"id\": \"\",\n",
    "                \"listing_id\": \"\",\n",
    "                \"title\": \"\",\n",
    "                \"price\": 0,\n",
    "                \"locali\": 0,\n",
    "                \"superficie\": 0,\n",
    "                \"bagni\": 0,\n",
    "                \"piano\": 0,\n",
    "                \"immobile\": \"\",\n",
    "                \"listing_link\": \"\",\n",
    "                \"description\": \"\"\n",
    "            }\n",
    "\n",
    "            listing_body = cur_listing.find(class_=\"listing-item_body\")\n",
    "\n",
    "            if(listing_body):\n",
    "\n",
    "                listing_dict['id'] = l_index\n",
    "                listing_dict['listing_id'] = cur_listing.get(\"data-id\")\n",
    "\n",
    "                listing_dict['title'] = listing_body.find(class_=\"titolo\").text.strip()\n",
    "\n",
    "                listing_dict[\"listing_link\"] = listing_body.find(\"a\", {\"id\": \"link_ad_\" + listing_dict['listing_id']}).get(\"href\")\n",
    "\n",
    "                listing_dict['description'] = listing_body.find(class_=\"descrizione\").text.strip()\n",
    "\n",
    "                # Extracting the listing features \n",
    "                listing_features = listing_body.find(class_=[\"listing-features\", \"list-piped\"])\n",
    "\n",
    "                listing_links_persist[listing_dict['listing_id']] = listing_dict[\"listing_link\"]\n",
    "\n",
    "                for cur_feature in listing_features.find_all(class_=\"lif__item\", recursive=False):\n",
    "\n",
    "                    feature_cls_list = cur_feature.get(\"class\")\n",
    "\n",
    "                    # Extract listing price\n",
    "                    if 'lif__pricing' in feature_cls_list:\n",
    "                        listing_dict['price'] = extract_number(cur_feature.text.strip())\n",
    "                    else:\n",
    "                        # Extract other features information\n",
    "                        # @TODO: Need to refine locali to contain a list: example: 1-5 should be [1,2,3,4,5]\n",
    "                        feature_name = cur_feature.find(class_=\"lif--muted\")\n",
    "\n",
    "                        # @TODO: Need to do this more efficiently\n",
    "                        if(feature_name):\n",
    "                            feature_name = feature_name.text.strip()\n",
    "\n",
    "                            if feature_name in listing_dict:\n",
    "                                feature_value = cur_feature.find(class_=\"text-bold\").text.strip()\n",
    "                                listing_dict[feature_name] = extract_number(feature_value)\n",
    "\n",
    "\n",
    "                listing_index_persist['listing_ids'].append(listing_dict['listing_id'])\n",
    "\n",
    "                l_index += 1\n",
    "                listings_persist[listing_dict['listing_id']] = listing_dict\n",
    "\n",
    "\n",
    "    # Remove duplicate listing entries\n",
    "    listing_index_persist['listing_ids'] = list(set(listing_index_persist['listing_ids']))\n",
    "\n",
    "    # Persist the listings object and dictionary using pickel library\n",
    "    \n",
    "    #Save listings data\n",
    "    write_file_to_pickle(listings_file, listings_persist)\n",
    "\n",
    "    #Save individual listings links data\n",
    "    write_file_to_pickle(listing_links_file, listing_links_persist)\n",
    "\n",
    "    #Save index of listings\n",
    "    write_file_to_pickle(listing_index_file, listing_index_persist)\n",
    "\n",
    "else:\n",
    "    print(\"Indexes are already created\")\n",
    "\n",
    "\n",
    "#print(\"No of links:\")\n",
    "#print(len(listing_links_persist.keys()))\n",
    "\n",
    "#print(\"No of listings:\")\n",
    "#print(len(listings_persist.keys()))\n",
    "\n",
    "#print(\"No of listings in the listing index file:\")\n",
    "#print(len(listing_index_persist['listing_ids']))\n",
    "\n",
    "\n",
    "if desc_flag:\n",
    "\n",
    "    # Parse the detail pages \n",
    "    # And update the description of individual listings\n",
    "    for i in range(len(listing_links_persist.keys())):\n",
    "        cur_detail_page = BeautifulSoup(open(os.path.join(my_path, 'data_detail/listing_detail_' + str(i) + '.html')), 'html.parser')\n",
    "\n",
    "        cur_page_contact = cur_detail_page.find('div',{\"id\":\"up-contact-box\"})\n",
    "        if cur_page_contact:\n",
    "            cur_page_elem = cur_page_contact.find(class_=\"info-agenzia\")\n",
    "\n",
    "            if cur_page_elem:\n",
    "                cur_page_id = cur_page_elem.get(\"data-annuncio\")\n",
    "\n",
    "                cur_page_description =  cur_detail_page.find(class_=\"description-text\")\n",
    "\n",
    "                if cur_page_description:\n",
    "                    cur_page_description = cur_page_description.text.strip()\n",
    "\n",
    "                    cur_page_description = \"\".join(cur_page_description.splitlines())\n",
    "\n",
    "                    if cur_page_id in listings_persist:\n",
    "                        listings_persist[cur_page_id]['description'] = cur_page_description\n",
    "                    else:\n",
    "                        pass\n",
    "                        #print(\"Page key not found in the persisted data\")\n",
    "                else:\n",
    "                    pass\n",
    "                    #print(\"Page Description not found\")\n",
    "            else:\n",
    "                pass\n",
    "                #print(\"Page ID not found\")\n",
    "        else:\n",
    "            pass\n",
    "            #print(\"Contact not found\")\n",
    "\n",
    "    #Save listings data with new content (complete listing description)\n",
    "    write_file_to_pickle(listings_file, listings_persist)\n"
   ]
  },
  {
   "cell_type": "markdown",
   "metadata": {},
   "source": [
    "##  Finally we can show you our Datasets!"
   ]
  },
  {
   "cell_type": "markdown",
   "metadata": {},
   "source": [
    "### 1) Information"
   ]
  },
  {
   "cell_type": "code",
   "execution_count": 8,
   "metadata": {},
   "outputs": [
    {
     "name": "stdout",
     "output_type": "stream",
     "text": [
      "Information data set already present\n",
      "9987\n"
     ]
    }
   ],
   "source": [
    "#%%writefile code/create_information_ds.py\n",
    "\n",
    "#Preparing information data set\n",
    "if(len(information_ds_persist.keys()) == 0):\n",
    "\n",
    "    information_ds_persist['dataset'] = []\n",
    "\n",
    "    # Get the persisted listings data\n",
    "    for listing_id in listing_index_persist['listing_ids']:\n",
    "        cur_listing = listings_persist[listing_id]\n",
    "\n",
    "        listing_info = [cur_listing['price'], cur_listing['locali'], cur_listing['superficie'], cur_listing['bagni'], cur_listing['piano']]\n",
    "\n",
    "        information_ds_persist['dataset'].append(listing_info)\n",
    "    \n",
    "    #Save information data set\n",
    "    write_file_to_pickle(information_ds_file, information_ds_persist)\n",
    "\n",
    "else:\n",
    "    print(\"Information data set already present\")\n",
    "\n",
    "\n",
    "print(len(information_ds_persist['dataset']))"
   ]
  },
  {
   "cell_type": "markdown",
   "metadata": {},
   "source": [
    "### 2) Description \n",
    "Our description DataFrame is almost 600 MB storage.\n"
   ]
  },
  {
   "cell_type": "markdown",
   "metadata": {},
   "source": [
    "### Creating vocabulary:\n",
    "Here we are creating the vocabulary dictionary, firstly we create a dictionary, then for each word in the doc's description and title, we check if the word is already in the dictionary, if not we add it to and we assign it an id, if it is in the dictionary we skip and continue."
   ]
  },
  {
   "cell_type": "code",
   "execution_count": 9,
   "metadata": {},
   "outputs": [
    {
     "name": "stdout",
     "output_type": "stream",
     "text": [
      "[nltk_data] Downloading package stopwords to\n",
      "[nltk_data]     C:\\Users\\Personal\\AppData\\Roaming\\nltk_data...\n",
      "[nltk_data]   Package stopwords is already up-to-date!\n",
      "Vocabulary data set already present\n"
     ]
    }
   ],
   "source": [
    "#%%writefile code/create_vocabulary.py\n",
    "\n",
    "#First we import stopwords from nltk\n",
    "nltk.download('stopwords')\n",
    "stop_words = set(stopwords.words('italian'))\n",
    "#To remove punctuation we use regexptokenizer, but we leave dollar symbol $ because maybe is used in some queries\n",
    "tokenizer = RegexpTokenizer(r'\\w+|\\$')\n",
    "#we create the stemmer\n",
    "ps = SnowballStemmer('italian')\n",
    "\n",
    "list_len = len(listing_index_persist['listing_ids'])\n",
    "\n",
    "if(len(listing_content_persist.keys()) == 0):\n",
    "    \n",
    "    listing_word_map = {}\n",
    "    \n",
    "    # We reach here if we don't have indexes already present\n",
    "    print(\"Vocabulary is being created...\")\n",
    " \n",
    "    for i in range(list_len):\n",
    "        \n",
    "        cur_list_id = listing_index_persist['listing_ids'][i]\n",
    "        \n",
    "        cur_list_obj = listings_persist[cur_list_id]\n",
    "\n",
    "        # Extract all the text in the individual listing\n",
    "        # For listing title\n",
    "        t1 = cur_list_obj['title']\n",
    "        \n",
    "        # For listing content\n",
    "        t2 = cur_list_obj['description']\n",
    "        \n",
    "        t = t1+ ' ' +t2\n",
    "        t = t.lower()\n",
    "        t = tokenizer.tokenize(t)\n",
    "        \n",
    "        # This array will contain all the valid words in a given review after removing \n",
    "        # all the stop words, punctuations, stemming etc..,, we will use this information\n",
    "        # to find out the term frequency there by tf-idf values\n",
    "        listing_words = []\n",
    "        \n",
    "        for r in t :\n",
    "            if not r in stop_words:\n",
    "                sr = r #ps.stem(r) - avoid stemming for now for the wordcloud\n",
    "                \n",
    "                listing_words.append(sr)\n",
    "                \n",
    "                if not  sr in listing_word_map:\n",
    "                    listing_word_map[sr] = [i]\n",
    "                else:\n",
    "                    listing_word_map[sr]+=[i]\n",
    "                    \n",
    "                    \n",
    "        listing_content_persist[i] = ' '.join(listing_words)\n",
    "    \n",
    "    # Saving the content and indexes for the first time\n",
    "    # We made use of pickel python module\n",
    "    #Saving content dictionary\n",
    "    write_file_to_pickle(content_file, listing_content_persist)\n",
    "    \n",
    "    # Word and Vocabulary indexes based on word map\n",
    "    c = 0\n",
    "    for key in listing_word_map:\n",
    "        words_persist[key] = c\n",
    "        vocabulary_persist[c] = listing_word_map[key]\n",
    "        c += 1\n",
    "    \n",
    "    #Save vocabulary and words\n",
    "    write_file_to_pickle(vocabulary_file, vocabulary_persist)\n",
    "    write_file_to_pickle(words_file, words_persist)\n",
    "else:\n",
    "    print(\"Vocabulary data set already present\")"
   ]
  },
  {
   "cell_type": "markdown",
   "metadata": {},
   "source": [
    "### Creating tfidfs:"
   ]
  },
  {
   "cell_type": "code",
   "execution_count": 10,
   "metadata": {},
   "outputs": [
    {
     "name": "stdout",
     "output_type": "stream",
     "text": [
      "Inverted Indexes already present\n"
     ]
    }
   ],
   "source": [
    "#%%writefile code/calculate_tfidfs.py\n",
    "\n",
    "if(len(iindex_tf_idf_persist.keys()) == 0):\n",
    "    \n",
    "    print(\"Inverted Indexes are being calculated\")\n",
    "\n",
    "    word_iindex = {}\n",
    "\n",
    "    #Creating inverted index using tf-idf and consine similarity\n",
    "    for word in words_persist:\n",
    "        word_doc_list = vocabulary_persist[words_persist[word]]\n",
    "        word_iindex[word] = []\n",
    "\n",
    "        # Store indexes based on number of times a particular word is present in a given document\n",
    "        for doc in word_doc_list:\n",
    "            doc_content = listing_content_persist[doc]\n",
    "            # Pushing the term frequency with document id\n",
    "            word_iindex[word].append([doc, doc_content.split().count(word)])\n",
    "\n",
    "    # Store indexes based on tf-idf\n",
    "    docs_length = len(listing_content_persist.keys())\n",
    "    iindex_tf_idf_persist = word_iindex\n",
    "\n",
    "    for key, word in iindex_tf_idf_persist.items():\n",
    "        # find out the relative importance of a particular terms relating it to document count\n",
    "        idf= math.log10( docs_length / len(word) )\n",
    "\n",
    "        for elem in word:\n",
    "            # Add the document score corresponding to a particular term which we then use in the \n",
    "            # search results ranking of documents\n",
    "            elem[1] = idf * elem[1]\n",
    "    \n",
    "\n",
    "    # Persisting the indexes calculated \n",
    "    write_file_to_pickle(index_file, iindex_tf_idf_persist)\n",
    "else:\n",
    "    print(\"Inverted Indexes already present\")\n",
    "    "
   ]
  },
  {
   "cell_type": "markdown",
   "metadata": {},
   "source": [
    "Here we are creating the inverted index file. Firstly we create a dictionary, then for each word in the doc's description and title, we check if the word is in the dictionary and if not we add its id to the dictionary and we add the doc name to the list (value) of the word. Instead if it is already in the dictionary we add the doc number to the list of the word.\n"
   ]
  },
  {
   "cell_type": "markdown",
   "metadata": {},
   "source": [
    "### Create description dataset"
   ]
  },
  {
   "cell_type": "code",
   "execution_count": 11,
   "metadata": {},
   "outputs": [
    {
     "name": "stdout",
     "output_type": "stream",
     "text": [
      "Description data set is being created...\n"
     ]
    }
   ],
   "source": [
    "#%%writefile code/create_description_ds.py\n",
    "\n",
    "# Preparing Description data set\n",
    "# Create description data set\n",
    "# Extract the words in individual listings\n",
    "# Create a matrix with rows as listings and columns as words\n",
    "# Combile listing title and description\n",
    "# Remove stop words\n",
    "# Calculate the term frequency\n",
    "# Calculate the td*idf score for that word in that document\n",
    "# Which gives the description data set for the 10000 listings saved\n",
    "if(len(description_ds_persist.keys()) == 0):\n",
    "\n",
    "    print(\"Description data set is being created...\")\n",
    "\n",
    "    list_len = len(listing_index_persist['listing_ids'])\n",
    "    description_ds = []\n",
    "    \n",
    "    #Build the description data set\n",
    "    for i in range(list_len):\n",
    "        \n",
    "        cur_list_id = listing_index_persist['listing_ids'][i]\n",
    "        \n",
    "        cur_list_obj = listings_persist[cur_list_id]\n",
    "\n",
    "        cur_word_list = []\n",
    "        \n",
    "        #Initialize each word tf-idf with 0's\n",
    "        for word in words_persist:\n",
    "            cur_word_list.append(0)\n",
    "\n",
    "        # @TODO: Need to optimize the number of verfications done here\n",
    "        for key, word in iindex_tf_idf_persist.items():\n",
    "            # elem[0] - list_id\n",
    "            # elem[1] - tf-idf\n",
    "            for elem in word:\n",
    "                # Update tf-idf of that word for that listing \n",
    "                if(elem[0] == i):\n",
    "                    cur_word_list[words_persist[key]] = elem[1]\n",
    "        \n",
    "        description_ds.append(cur_word_list)\n",
    "\n",
    "    description_ds_persist['dataset'] = description_ds\n",
    "\n",
    "\n",
    "    # Persisting the indexes calculated \n",
    "    write_file_to_pickle(description_ds_file, description_ds_persist)\n",
    "    \n",
    "else:\n",
    "    print(\"Description data set already present\")\n",
    "    \n",
    "#print(description_ds_persist['dataset'][789])\n"
   ]
  },
  {
   "cell_type": "markdown",
   "metadata": {},
   "source": [
    "## 3) Clustering"
   ]
  },
  {
   "cell_type": "markdown",
   "metadata": {},
   "source": [
    "We apply Elbow method to find optimal number of clusters for both Information and Description dataset created above. You can find more information about Elbow Method if you [click here](https://en.wikipedia.org/wiki/Elbow_method_(clustering))."
   ]
  },
  {
   "cell_type": "code",
   "execution_count": 12,
   "metadata": {},
   "outputs": [],
   "source": [
    "#%%writefile code/apply_elbow_method.py\n",
    "\n",
    "def apply_elbow(dataset):\n",
    "\n",
    "    wcss = []\n",
    "\n",
    "    \n",
    "    for i in range(1, 11):\n",
    "        kmeans = KMeans(n_clusters = i, init = 'k-means++')\n",
    "        kmeans.fit(dataset)\n",
    "        wcss.append(kmeans.inertia_)\n",
    "\n",
    "    return wcss\n",
    "\n",
    "\n",
    "# Applying elbow method for information data set\n",
    "score_list_ids = apply_elbow(information_ds_persist['dataset'])\n",
    "\n",
    "\n",
    "# Applying elbow method for description data set\n",
    "#score_list_dds = apply_elbow(description_ds_persist['dataset'])\n"
   ]
  },
  {
   "cell_type": "markdown",
   "metadata": {},
   "source": [
    "We start assigning clusters from 5 groups because assigning just one cluster does not make sense. "
   ]
  },
  {
   "cell_type": "code",
   "execution_count": 13,
   "metadata": {},
   "outputs": [
    {
     "name": "stdout",
     "output_type": "stream",
     "text": [
      "Plot for IDS: \n"
     ]
    },
    {
     "data": {
      "text/plain": [
       "[<matplotlib.lines.Line2D at 0x17ef6daa1d0>]"
      ]
     },
     "execution_count": 13,
     "metadata": {},
     "output_type": "execute_result"
    },
    {
     "data": {
      "image/png": "[encoded data removed]",
      "text/plain": [
       "<matplotlib.figure.Figure at 0x17ef660d438>"
      ]
     },
     "metadata": {},
     "output_type": "display_data"
    }
   ],
   "source": [
    "# Plot Information dataset Elbow\n",
    "\n",
    "# From 2 clusters \n",
    "print(\"Plot for IDS: \")\n",
    "\n",
    "plt.plot(range(2,11), score_list_ids[1:])\n",
    "plt.plot([2, 10],[score_list_ids[1], score_list_ids[9]])\n",
    "plt.plot(5, score_list_ids[4], 'o', ms=30, mec='r', mfc='none', mew=2)\n",
    "\n"
   ]
  },
  {
   "cell_type": "markdown",
   "metadata": {},
   "source": [
    "We compute the distance from the line on graph between the sum of squared error."
   ]
  },
  {
   "cell_type": "code",
   "execution_count": 14,
   "metadata": {
    "scrolled": true
   },
   "outputs": [
    {
     "data": {
      "text/plain": [
       "{2: 0.0,\n",
       " 3: 2.408987910591576,\n",
       " 4: 3.052858811967538,\n",
       " 5: 3.26713046464527,\n",
       " 6: 2.90405692234205,\n",
       " 7: 2.352889452719834,\n",
       " 8: 1.7014135586349814,\n",
       " 9: 0.8811608971259987,\n",
       " 10: 0.0}"
      ]
     },
     "execution_count": 14,
     "metadata": {},
     "output_type": "execute_result"
    }
   ],
   "source": [
    "distances = {}\n",
    "\n",
    "p1=np.array([2,score_list_ids[1]])\n",
    "p2=np.array([10,score_list_ids[9]])\n",
    "\n",
    "for i in range(1,10):\n",
    "    p3 = np.array([i+1,score_list_ids[i]])\n",
    "    d = abs(np.cross(p2-p1,p3-p1)/np.linalg.norm(p2-p1))\n",
    "    distances[i+1] = d\n",
    "distances"
   ]
  },
  {
   "cell_type": "markdown",
   "metadata": {},
   "source": [
    "##### As you can see, the optimal number of clusters is 5"
   ]
  },
  {
   "cell_type": "markdown",
   "metadata": {},
   "source": [
    "## 4) Comparison among cluster\n",
    "\n",
    "### Cluster the listings in information and description dataset by using the optimal cluster count obtained from the Elbow method\n",
    "\n",
    "### Find similar clusters\n"
   ]
  },
  {
   "cell_type": "code",
   "execution_count": 1,
   "metadata": {
    "scrolled": true
   },
   "outputs": [
    {
     "name": "stdout",
     "output_type": "stream",
     "text": [
      "Clustering for Information Dataset: \n"
     ]
    },
    {
     "ename": "NameError",
     "evalue": "name 'information_ds_persist' is not defined",
     "output_type": "error",
     "traceback": [
      "\u001b[1;31m---------------------------------------------------------------------------\u001b[0m",
      "\u001b[1;31mNameError\u001b[0m                                 Traceback (most recent call last)",
      "\u001b[1;32m<ipython-input-1-b2d7a64edb88>\u001b[0m in \u001b[0;36m<module>\u001b[1;34m()\u001b[0m\n\u001b[0;32m     30\u001b[0m \u001b[1;31m# @TODO: Based on the optimial cluster count from Elbow method\u001b[0m\u001b[1;33m\u001b[0m\u001b[1;33m\u001b[0m\u001b[0m\n\u001b[0;32m     31\u001b[0m \u001b[0mprint\u001b[0m\u001b[1;33m(\u001b[0m\u001b[1;34m'Clustering for Information Dataset: '\u001b[0m\u001b[1;33m)\u001b[0m\u001b[1;33m\u001b[0m\u001b[0m\n\u001b[1;32m---> 32\u001b[1;33m \u001b[0mids_c_list\u001b[0m \u001b[1;33m=\u001b[0m \u001b[0mcluster_documents\u001b[0m\u001b[1;33m(\u001b[0m\u001b[0minformation_ds_persist\u001b[0m\u001b[1;33m[\u001b[0m\u001b[1;34m'dataset'\u001b[0m\u001b[1;33m]\u001b[0m\u001b[1;33m,\u001b[0m \u001b[1;36m5\u001b[0m\u001b[1;33m)\u001b[0m\u001b[1;33m\u001b[0m\u001b[0m\n\u001b[0m\u001b[0;32m     33\u001b[0m \u001b[1;33m\u001b[0m\u001b[0m\n\u001b[0;32m     34\u001b[0m \u001b[1;33m\u001b[0m\u001b[0m\n",
      "\u001b[1;31mNameError\u001b[0m: name 'information_ds_persist' is not defined"
     ]
    }
   ],
   "source": [
    "#%%writefile code/cluster_listings.py\n",
    "\n",
    "# data - is the dataset\n",
    "# k  - number of clusters\n",
    "# @TODO: Need to use Elbow method to decide on\n",
    "# Optimal number of clusters\n",
    "\n",
    "def cluster_documents(data, k):   \n",
    "    \n",
    "    #use k-means to clusterize the songs\n",
    "    kmeans = KMeans(n_clusters=k, init='random') # initialization\n",
    "    kmeans.fit(data) # actual execution\n",
    "    c = kmeans.predict(data)\n",
    "    c_list = list(c)\n",
    "\n",
    "    clustered_list = []\n",
    "\n",
    "    # Creating a multi dimentional array based on k\n",
    "    for c in range(k):\n",
    "        clustered_list.append([])\n",
    "\n",
    "    # Extract the listing ids from indexes\n",
    "    index = 0\n",
    "    for i in c_list:\n",
    "        clustered_list[i].append(index)\n",
    "        index += 1\n",
    "    \n",
    "    return clustered_list\n",
    "\n",
    "# @TODO: Based on the optimial cluster count from Elbow method\n",
    "print('Clustering for Information Dataset: ')\n",
    "ids_c_list = cluster_documents(information_ds_persist['dataset'], 5)\n",
    "\n",
    "\n",
    "print('Clustering for Description Dataset: ')\n",
    "dds_c_list = cluster_documents(description_ds_persist['dataset'], 5)\n",
    "\n",
    "# Jaccard similarity\n",
    "print('Applying Jacard similarity for the clusters: ')\n",
    "cmp_output  = compare_clusters(ids_c_list, dds_c_list)\n",
    "\n",
    "\n",
    "# Getting top 3 similar clusters and use it to generate wordcloud\n",
    "top_3_tuple = sorted(zip(cmp_output['score_list'], cmp_output['comb_list']), reverse=True)[:3]\n",
    "top_3_list = list(top_3_tuple)\n",
    "print(top_3_list)\n",
    "\n",
    "#Preparing the cluster list for generating word cloud\n",
    "top_c_list = get_similar_clusters(top_3_list, ids_c_list, dds_c_list)"
   ]
  },
  {
   "cell_type": "markdown",
   "metadata": {},
   "source": [
    "These are the top 3 similar clusters between information dataset and description dataset."
   ]
  },
  {
   "cell_type": "markdown",
   "metadata": {},
   "source": [
    "## 5) Word cloud of house descriptions"
   ]
  },
  {
   "cell_type": "code",
   "execution_count": null,
   "metadata": {},
   "outputs": [],
   "source": [
    "#%%writefile code/create_wordcloud.py\n",
    "\n",
    "def create_wordcloud(clist, stopwords_flag):\n",
    "\n",
    "    c_index = 0   \n",
    "    \n",
    "    for cluster in clist:\n",
    "        \n",
    "        cur_cluster_words = \" \"\n",
    "        \n",
    "        # Extracting all the words of the listings in current cluster\n",
    "        for list_id in cluster:\n",
    "            cur_cluster_words +=  get_listing_content(list_id, stopwords_flag)\n",
    "        \n",
    "        #strg_cloud = ' '.join(strg_cloud.split())\n",
    "        \n",
    "        wordcloud = WordCloud(width = 300, height = 300, margin = 0, collocations=False).generate(cur_cluster_words)\n",
    "        \n",
    "        plt.imshow(wordcloud, interpolation = \"bilinear\")\n",
    "        plt.axis(\"off\")\n",
    "        plt.margins(x=0,y=0)\n",
    "        plt.savefig(get_wc_save_path(c_index, stopwords_flag))\n",
    "        #plt.show()\n",
    "\n",
    "        c_index += 1  \n",
    "\n",
    "\n",
    "#Creating wordcloud with top 3 similar clusters\n",
    "# Wordcloud with all the words\n",
    "create_wordcloud(top_c_list, False)\n",
    "\n",
    "# Wordcloud without stopwords\n",
    "create_wordcloud(top_c_list, True)"
   ]
  },
  {
   "cell_type": "markdown",
   "metadata": {},
   "source": [
    "## Results of wordcloud:\n",
    "\n",
    "### We applied wordcloud to 2 sets of data, \n",
    "#### 1) without stopwords \n",
    "#### 2) with stopwords(all words)"
   ]
  },
  {
   "cell_type": "markdown",
   "metadata": {},
   "source": [
    "\n",
    "## Without stopwords:\n",
    "\n",
    "\n",
    "### Cluster 1\n",
    "\n",
    "![title](wordcloud/cluster_0.png)\n",
    "\n",
    "\n",
    "### Cluster 2\n",
    "\n",
    "![title](wordcloud/cluster_1.png)\n",
    "\n",
    "\n",
    "### Cluster 3\n",
    "\n",
    "![title](wordcloud/cluster_2.png)\n",
    "\n",
    "\n",
    "## With all the words:\n",
    "\n",
    "\n",
    "### Cluster 1\n",
    "\n",
    "![title](wordcloud/cluster_all_0.png)\n",
    "\n",
    "\n",
    "### Cluster 2\n",
    "\n",
    "![title](wordcloud/cluster_all_1.png)\n",
    "\n",
    "\n",
    "### Cluster 3\n",
    "\n",
    "![title](wordcloud/cluster_all_2.png)"
   ]
  },
  {
   "cell_type": "markdown",
   "metadata": {},
   "source": [
    "![immobiliare.it](https://www.progedil90.it/blog/wp-content/uploads/2015/12/crescita-mercato-immobiliare-italia-2015.jpg)"
   ]
  },
  {
   "cell_type": "markdown",
   "metadata": {},
   "source": [
    "# 2) Find the duplicates! \n",
    "\n",
    "### Welcome to the second part of this HomeWork!"
   ]
  },
  {
   "cell_type": "markdown",
   "metadata": {},
   "source": [
    "The goal of this section of HW4 was define a hash function that associates a value to each string to check whether there are some duplicate strings.We have two different ways,that we'll explain you later..\n",
    "Now we wanna try to explain what does hashing algorithm really mean.\n",
    "The point of a hash value is that it is theoretically impossible to find the original input number without knowing the hashing algorithm used to create the eventual hash.\n"
   ]
  },
  {
   "cell_type": "markdown",
   "metadata": {},
   "source": [
    "![HASSSHH](https://blog.cex.io/wp-content/uploads/2014/10/Hashing-Algorhitm_Blog1.png)"
   ]
  },
  {
   "cell_type": "markdown",
   "metadata": {},
   "source": [
    "### THE GOOAL!"
   ]
  },
  {
   "cell_type": "markdown",
   "metadata": {},
   "source": [
    "There are 3 steps that you need to perform:\n",
    "- Convert the string containing the password to a (potentially large) number\n",
    "- Use a hash function to map the number to a large range.\n",
    "- find if two numbers fall on the same range."
   ]
  },
  {
   "cell_type": "markdown",
   "metadata": {},
   "source": [
    "### How big is our file??"
   ]
  },
  {
   "cell_type": "code",
   "execution_count": null,
   "metadata": {},
   "outputs": [],
   "source": [
    "# we can check how many rows this file have.\n",
    "lunghezza=len(password)\n",
    "print(lunghezza,'?','one hundred and ten million lines? are we kidding?')"
   ]
  },
  {
   "cell_type": "markdown",
   "metadata": {},
   "source": [
    "![Huge](https://media.makeameme.org/created/what-is-that-5b3c88.jpg)"
   ]
  },
  {
   "cell_type": "markdown",
   "metadata": {},
   "source": [
    "Ok, let's go!"
   ]
  },
  {
   "cell_type": "code",
   "execution_count": null,
   "metadata": {},
   "outputs": [],
   "source": [
    "with open('passwords2.txt')as file: # read file .txt \n",
    "    password = file.readlines()\n",
    "for count in range(len(password)):\n",
    "    password[count] = password[count].replace(\"\\n\",\"\")# for each line we have replaced \"\\n\" with \"\""
   ]
  },
  {
   "cell_type": "markdown",
   "metadata": {},
   "source": [
    "First of all we opened the passwords2.txt file, but only in Reading mode, we red the file line for line, where the lines were strings."
   ]
  },
  {
   "cell_type": "markdown",
   "metadata": {},
   "source": [
    "### I° option, order doesn't matter..\n",
    "-  Associate a number to strings,  but in this case the  order is not important.For istance , \"AABA\" = \"AAAB\" , these strings will have the same number. \n",
    "\n",
    "### II° option, order is important..\n",
    "-  Associate a number to strings,  but now the  order IS IMPORTANT.For istance , \"AABA\" != \"AAAB\" now will have the different numbers.\n",
    "\n"
   ]
  },
  {
   "cell_type": "markdown",
   "metadata": {},
   "source": [
    "Let's go with the first case."
   ]
  },
  {
   "cell_type": "code",
   "execution_count": null,
   "metadata": {},
   "outputs": [],
   "source": [
    "# without order\n",
    "def MYHASH1(password):\n",
    "    count = 1\n",
    "    for elem in password:\n",
    "        count = (count  ^ (ord(elem)*(7*37**17-27) << 2))\n",
    "    count % (2**128)\n",
    "    return count"
   ]
  },
  {
   "cell_type": "code",
   "execution_count": null,
   "metadata": {
    "scrolled": true
   },
   "outputs": [],
   "source": [
    "print((MYHASH1('ciao')),' is equal to ',MYHASH1('icao'),'?')\n",
    "print(MYHASH1('oaic')== MYHASH1('ciao'))\n",
    "print((MYHASH1('oaic')),' is different to ',MYHASH1('ciao'),'?')\n",
    "print(MYHASH1('oaic')!= MYHASH1('ciao'))\n",
    "print((MYHASH1('CIAONE')),' and ',MYHASH1('CIAONE2'),' are the same ?')\n",
    "print(MYHASH1('CIAONE')== MYHASH1('CIAONE2'))"
   ]
  },
  {
   "cell_type": "markdown",
   "metadata": {},
   "source": [
    "some tests to verify that our algorithm works...\n",
    "Well done!"
   ]
  },
  {
   "cell_type": "markdown",
   "metadata": {},
   "source": [
    "### improve no collisions probability !\n",
    "Quite often the above mentioned polynomial hash is good enough, and no collisions will happen during tests with a small number of strings.  What if we compared a strings\n",
    "with 110000000 million of different strings?.Now the probability increase, it is pretty much guaranteed that this task will end will a collision and returns the wrong result.\n",
    "But we found a really easy trick to get better probabilities. We can just compute two different hashes for each string (by using two different P, and/or different m, and compare these pairs instead. If for istance, at the beginning the probability that collisions appear was ${10}^{-9}$ now will be ${10}^{-18}$\n",
    "\n",
    "Different strings with each other (e.g. by counting how many unique strings exists), then the probability of at least one collision happening is already ≈1\n"
   ]
  },
  {
   "cell_type": "code",
   "execution_count": null,
   "metadata": {},
   "outputs": [],
   "source": [
    "\n",
    "def Double_(password):\n",
    "    MyDict = dict()\n",
    "    coll = 0 \n",
    "    double= 0\n",
    "    with open('passwords2.txt', 'r') as f: \n",
    "        for i, line in enumerate(f):\n",
    "            check = password(line)\n",
    "            if check in MyDict.keys():\n",
    "                double += 1 \n",
    "                if sorted(MyDict[check]) != sorted(line):\n",
    "                    coll += 1\n",
    "            else:\n",
    "                MyDict[check] = line\n",
    "    f.close()\n",
    "    return (coll,double)\n"
   ]
  },
  {
   "cell_type": "code",
   "execution_count": null,
   "metadata": {},
   "outputs": [],
   "source": [
    "coll,double = Double_(MYHASH1)"
   ]
  },
  {
   "cell_type": "code",
   "execution_count": null,
   "metadata": {},
   "outputs": [],
   "source": [
    "print(\"there are\", coll,'collisions','and', double,'duplicates')"
   ]
  },
  {
   "cell_type": "markdown",
   "metadata": {},
   "source": [
    "pretty good, 10 M duplicates and no Collisions,just as we expected.\n",
    "We used a Collision resistance Algorithm , ‘cryptographic hash function’ H are:\n",
    "\n",
    "- Collision resistance: It is hard to find two messages:\n",
    "Collision resistance is a property of cryptographic hash functions: a hash function H is collision resistant if it is hard to find two inputs that hash to the same output; that is, two inputs a and b such that $H(a) = H(b)$, and $a$ different from  $b$\n",
    "- Preimage resistance: Given a hash h:\n",
    "Preimage resistance is about the most basic property of a hash function which can be thought. It means:For a given h in the output space of the hash function, it is hard to find any message x with $H(x)=h$.\n",
    "- Second-preimage resistance: Given a message x:\n",
    "the hash function H′constructed as suggested is such that for any preimage m1, there is a different preimage m2 with the same hash, obtained from the first by complementing the added input bit b, and the other input bit which is combined with b.\n",
    "\n"
   ]
  },
  {
   "cell_type": "markdown",
   "metadata": {},
   "source": [
    "Now we can analyze the second case."
   ]
  },
  {
   "cell_type": "code",
   "execution_count": null,
   "metadata": {},
   "outputs": [],
   "source": [
    "def MYHASH2(password):\n",
    "    p = 151\n",
    "    \n",
    "    m = 14484968830081\n",
    "    hash_value = 0\n",
    "    p_pow = 1\n",
    "    for i, char in enumerate(password):\n",
    "        hash_value = (hash_value + ord(char) * p_pow) % m\n",
    "        p_pow = (p_pow * p) % m\n",
    "    \n",
    "    return hash_value"
   ]
  },
  {
   "cell_type": "code",
   "execution_count": null,
   "metadata": {},
   "outputs": [],
   "source": [
    "print((MYHASH2('ciao')),' is equal to ',MYHASH2('icao'),'?')\n",
    "print(MYHASH2('oaic')== MYHASH2('ciao'))\n",
    "print((MYHASH2('oaic')),' is different to ',MYHASH2('ciao'),'?')\n",
    "print(MYHASH2('oaic')!= MYHASH2('ciao'))\n",
    "print((MYHASH2('CIAONE')),' and ', MYHASH2('CIAONE2'),' are the same ?')\n",
    "print(MYHASH2('CIAONE')== MYHASH2('CIAOEN'))"
   ]
  },
  {
   "cell_type": "code",
   "execution_count": null,
   "metadata": {},
   "outputs": [],
   "source": [
    "\n",
    "# with order\n",
    "m = [0] * 14484968830081\n",
    "\n",
    "coll = 0\n",
    "double = 0\n",
    "\n",
    "for i in password:\n",
    "    x = MYHASH2(i)\n",
    "    go_to= x % 14484968830081\n",
    "    if m[go_to] == 0:\n",
    "        m[go_to] = [i]\n",
    "    elif i in m[go_to]:\n",
    "        double += 1\n",
    "    else:\n",
    "        m[go_to].append(i)\n",
    "        coll += 1\n",
    "print(coll,double)"
   ]
  },
  {
   "cell_type": "code",
   "execution_count": null,
   "metadata": {},
   "outputs": [],
   "source": [
    "print(\"there are\", coll,'collisions','and', double,'duplicates')"
   ]
  },
  {
   "cell_type": "markdown",
   "metadata": {},
   "source": [
    "### Our Conclusion(s)"
   ]
  },
  {
   "cell_type": "markdown",
   "metadata": {},
   "source": [
    "Suppose you were able to find two different strings that created the same output (a collision) .\n",
    "Then, at some factory during the process, you would be inputting two different strings and that particular factory would return the same output for both lines.\n",
    "But this means that you have found a collision at one factory, and this is a contradiction !For any hashing algorithm to be successful, it needs to be easy to create an output but impossible to find an input. In other words, in this homework we converted each string to number. For istance if you know that the hash value is 144 and the algorithm used was to multiple the input number by 12, it becomes easy to find that the original input number was 12. On the other hand, imagine if the input number could be a list of numbers that are added together before they’re multiplied by 12. This means that the input numbers could now be [12], [2,4,6], [3,3,3,3], or any other list of numbers that adds up to 12. With this hashing function, it becomes much more difficult to find the original input number when the hash algorithm and hash value are all you have.\n",
    "We implemented our hash Functions to find the duplicates in both cases.In the first case we discovered 10M duplicates and no collisions, because we used a Collision resistance Algorithm. in the second case, we found 5M duoplicates, the half of before,and this was rather obvious because now we know that each string \"SHOULD\" have a different number. As you can see also for the second part we have 0 collisions, and this is very good, but we know it because our algorithm is collision resistant."
   ]
  },
  {
   "cell_type": "code",
   "execution_count": null,
   "metadata": {},
   "outputs": [],
   "source": []
  }
 ],
 "metadata": {
  "kernelspec": {
   "display_name": "Python 3",
   "language": "python",
   "name": "python3"
  }
 },
 "nbformat": 4,
 "nbformat_minor": 2
}
